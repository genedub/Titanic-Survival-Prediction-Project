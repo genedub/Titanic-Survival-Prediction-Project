{
 "cells": [
  {
   "cell_type": "code",
   "execution_count": null,
   "id": "cd89dee5",
   "metadata": {},
   "outputs": [],
   "source": [
    "import pandas as pd\n",
    "import numpy as np"
   ]
  },
  {
   "cell_type": "code",
   "execution_count": null,
   "id": "d4bb91d1",
   "metadata": {},
   "outputs": [],
   "source": [
    "df = pd.read_csv('data/train.csv')\n",
    "df_2 = pd.read_csv('data/test.csv')\n",
    "df_3 = pd.read_csv('data/gender_submission.csv')"
   ]
  },
  {
   "cell_type": "code",
   "execution_count": null,
   "id": "f6157230",
   "metadata": {},
   "outputs": [],
   "source": [
    "df_merge_test = pd.merge(df_2, df_3, on=\"PassengerId\") "
   ]
  },
  {
   "cell_type": "code",
   "execution_count": null,
   "id": "11aa2858",
   "metadata": {},
   "outputs": [],
   "source": [
    "df_merge_test.head()"
   ]
  },
  {
   "cell_type": "code",
   "execution_count": null,
   "id": "ebb838bb",
   "metadata": {},
   "outputs": [],
   "source": [
    "df.isnull().any()"
   ]
  },
  {
   "cell_type": "code",
   "execution_count": null,
   "id": "c07e8818",
   "metadata": {},
   "outputs": [],
   "source": [
    "df.count()"
   ]
  },
  {
   "cell_type": "code",
   "execution_count": null,
   "id": "f4dd9c6e",
   "metadata": {},
   "outputs": [],
   "source": [
    "df=df.drop(['Cabin', 'Ticket', 'Name'],axis=1)"
   ]
  },
  {
   "cell_type": "code",
   "execution_count": null,
   "id": "33fcca06",
   "metadata": {},
   "outputs": [],
   "source": [
    "df.head()"
   ]
  },
  {
   "cell_type": "code",
   "execution_count": null,
   "id": "c3581b09",
   "metadata": {},
   "outputs": [],
   "source": [
    "df['Age']=df['Age'].interpolate()"
   ]
  },
  {
   "cell_type": "code",
   "execution_count": null,
   "id": "843e68cb",
   "metadata": {},
   "outputs": [],
   "source": [
    "df['Age']=df['Age'].fillna(df.Age.median())"
   ]
  },
  {
   "cell_type": "code",
   "execution_count": null,
   "id": "1281b5aa",
   "metadata": {},
   "outputs": [],
   "source": [
    "df.count()"
   ]
  },
  {
   "cell_type": "code",
   "execution_count": null,
   "id": "715885f0",
   "metadata": {},
   "outputs": [],
   "source": [
    "df_clean = df.dropna()"
   ]
  },
  {
   "cell_type": "code",
   "execution_count": null,
   "id": "4fdb1140",
   "metadata": {},
   "outputs": [],
   "source": [
    "df_clean.count()"
   ]
  },
  {
   "cell_type": "code",
   "execution_count": null,
   "id": "c0d7bcc9",
   "metadata": {},
   "outputs": [],
   "source": [
    "data = pd.get_dummies(df_clean, columns=[\"Sex\"])\n",
    "data.head()\n",
    "\n",
    "# df_clean['Sex'].value_counts()\n",
    "# def transform_sex(n):\n",
    "#   if n == 'female':\n",
    "#     return 1\n",
    "#   else:\n",
    "#     return 0\n",
    "\n",
    "# df_clean.head()\n",
    "\n",
    "# #get dummies label encoder \n",
    "# df_clean['Sex_10'] = df['Sex'].map(transform_sex)"
   ]
  },
  {
   "cell_type": "code",
   "execution_count": null,
   "id": "c6bf4868",
   "metadata": {},
   "outputs": [],
   "source": [
    "del data['Sex_male']"
   ]
  },
  {
   "cell_type": "code",
   "execution_count": null,
   "id": "1fc3352b",
   "metadata": {},
   "outputs": [],
   "source": [
    "data.head()"
   ]
  },
  {
   "cell_type": "code",
   "execution_count": null,
   "id": "dfc9a66d",
   "metadata": {},
   "outputs": [],
   "source": [
    "data = data.rename(columns={\"Sex_female\": \"Sex\"})\n",
    "data.head()"
   ]
  },
  {
   "cell_type": "code",
   "execution_count": null,
   "id": "6217d43d",
   "metadata": {},
   "outputs": [],
   "source": [
    "data.head()"
   ]
  },
  {
   "cell_type": "code",
   "execution_count": null,
   "id": "4ea2a44f",
   "metadata": {},
   "outputs": [],
   "source": [
    "column_names = [\"PassengerId\", \"Pclass\", \"Age\", \"SibSp\", \"Parch\", \"Fare\", \"Embarked\", \"Sex\", \"Survived\"]"
   ]
  },
  {
   "cell_type": "code",
   "execution_count": null,
   "id": "2b5f0cb3",
   "metadata": {},
   "outputs": [],
   "source": [
    "data = data.reindex(columns=column_names)"
   ]
  },
  {
   "cell_type": "code",
   "execution_count": null,
   "id": "f6e68473",
   "metadata": {},
   "outputs": [],
   "source": [
    "data.head()"
   ]
  },
  {
   "cell_type": "code",
   "execution_count": null,
   "id": "10e74c20",
   "metadata": {},
   "outputs": [],
   "source": [
    "# from sklearn.preprocessing import StandardScaler\n",
    "# import os"
   ]
  },
  {
   "cell_type": "code",
   "execution_count": null,
   "id": "52573445",
   "metadata": {},
   "outputs": [],
   "source": [
    "X_train = data.drop([\"PassengerId\",\"Survived\", \"Embarked\"], axis=1)\n",
    "y_train = data[\"Survived\"]\n",
    "print(X_train.shape, y_train.shape)"
   ]
  },
  {
   "cell_type": "code",
   "execution_count": null,
   "id": "e00051ad",
   "metadata": {},
   "outputs": [],
   "source": [
    "X_train.head()"
   ]
  },
  {
   "cell_type": "code",
   "execution_count": null,
   "id": "3152972e",
   "metadata": {},
   "outputs": [],
   "source": [
    "#from sklearn.model_selection import train_test_split\n",
    "#X_train, X_test, y_train, y_test = train_test_split(X, y, random_state=1)"
   ]
  },
  {
   "cell_type": "code",
   "execution_count": null,
   "id": "6ea39c9e",
   "metadata": {},
   "outputs": [],
   "source": [
    "from sklearn.linear_model import LogisticRegression\n",
    "# classifier = LogisticRegression(max_iter = 1000)\n",
    "classifier = LogisticRegression()\n",
    "classifier"
   ]
  },
  {
   "cell_type": "code",
   "execution_count": null,
   "id": "f10657d5",
   "metadata": {},
   "outputs": [],
   "source": [
    "classifier.fit(X_train, y_train)"
   ]
  },
  {
   "cell_type": "code",
   "execution_count": null,
   "id": "2704abf8",
   "metadata": {},
   "outputs": [],
   "source": [
    "classifier.predict(X_train)"
   ]
  },
  {
   "cell_type": "code",
   "execution_count": null,
   "id": "d3314cc8",
   "metadata": {},
   "outputs": [],
   "source": [
    "df_merge_test.isnull().any()"
   ]
  },
  {
   "cell_type": "code",
   "execution_count": null,
   "id": "1d250be8",
   "metadata": {},
   "outputs": [],
   "source": [
    "df_merge_test.count()"
   ]
  },
  {
   "cell_type": "code",
   "execution_count": null,
   "id": "93eebacd",
   "metadata": {},
   "outputs": [],
   "source": [
    "df_merge_test=df_merge_test.drop(['Cabin', 'Ticket', 'Name'],axis=1)"
   ]
  },
  {
   "cell_type": "code",
   "execution_count": null,
   "id": "8bbe3a6e",
   "metadata": {},
   "outputs": [],
   "source": [
    "df_merge_test['Age']=df_merge_test['Age'].interpolate()"
   ]
  },
  {
   "cell_type": "code",
   "execution_count": null,
   "id": "a6064e1f",
   "metadata": {},
   "outputs": [],
   "source": [
    "df_merge_test['Age']=df_merge_test['Age'].fillna(df.Age.median())"
   ]
  },
  {
   "cell_type": "code",
   "execution_count": null,
   "id": "b6c6f192",
   "metadata": {},
   "outputs": [],
   "source": [
    "df_merge_test_clean = df_merge_test.dropna()\n",
    "df_merge_test_clean.head()"
   ]
  },
  {
   "cell_type": "code",
   "execution_count": null,
   "id": "68e5732a",
   "metadata": {},
   "outputs": [],
   "source": [
    "df_merge_test_clean['Sex'].value_counts()"
   ]
  },
  {
   "cell_type": "code",
   "execution_count": null,
   "id": "1b7e31dd",
   "metadata": {},
   "outputs": [],
   "source": [
    "data_merge_test_clean = pd.get_dummies(df_merge_test_clean, columns=[\"Sex\"])\n",
    "data_merge_test_clean.head()\n",
    "\n",
    "# def transform_sex(n):\n",
    "#   if n == 'female':\n",
    "#     return 1\n",
    "#   else:\n",
    "#     return 0\n",
    "# df_merge_test_clean.head()\n",
    "\n",
    "# #get dummies label encoder \n",
    "# df_merge_test_clean['Sex_10'] = df_merge_test_clean['Sex'].map(transform_sex)"
   ]
  },
  {
   "cell_type": "code",
   "execution_count": null,
   "id": "c401e1f4",
   "metadata": {},
   "outputs": [],
   "source": [
    "del data_merge_test_clean['Sex_male']"
   ]
  },
  {
   "cell_type": "code",
   "execution_count": null,
   "id": "ebb67fcc",
   "metadata": {},
   "outputs": [],
   "source": [
    "data_merge_test_clean.head()"
   ]
  },
  {
   "cell_type": "code",
   "execution_count": null,
   "id": "d355f09f",
   "metadata": {},
   "outputs": [],
   "source": [
    "column_names = [\"PassengerId\", \"Pclass\", \"Age\", \"SibSp\", \"Parch\", \"Fare\", \"Embarked\", \"Sex\", \"Survived\"]"
   ]
  },
  {
   "cell_type": "code",
   "execution_count": null,
   "id": "1dce9837",
   "metadata": {},
   "outputs": [],
   "source": [
    "data_merge_test_clean = data_merge_test_clean.rename(columns={\"Sex_female\": \"Sex\"})\n",
    "data_merge_test_clean.head()"
   ]
  },
  {
   "cell_type": "code",
   "execution_count": null,
   "id": "99a8991d",
   "metadata": {},
   "outputs": [],
   "source": [
    "column_names = [\"PassengerId\", \"Pclass\", \"Age\", \"SibSp\", \"Parch\", \"Fare\", \"Embarked\", \"Sex\", \"Survived\"]"
   ]
  },
  {
   "cell_type": "code",
   "execution_count": null,
   "id": "6413a329",
   "metadata": {},
   "outputs": [],
   "source": [
    "data_merge_test_clean = data.reindex(columns=column_names)\n",
    "data_merge_test_clean.head()"
   ]
  },
  {
   "cell_type": "code",
   "execution_count": null,
   "id": "5eccad82",
   "metadata": {},
   "outputs": [],
   "source": [
    "# from sklearn.preprocessing import StandardScaler\n",
    "# import os"
   ]
  },
  {
   "cell_type": "code",
   "execution_count": null,
   "id": "0fad044a",
   "metadata": {},
   "outputs": [],
   "source": [
    "X_test = data_merge_test_clean.drop([\"PassengerId\",\"Survived\", \"Embarked\"], axis=1)\n",
    "y_test = data_merge_test_clean[\"Survived\"]\n",
    "print(X_train.shape, y_train.shape)"
   ]
  },
  {
   "cell_type": "code",
   "execution_count": null,
   "id": "84237aff",
   "metadata": {},
   "outputs": [],
   "source": [
    "from sklearn.linear_model import LogisticRegression\n",
    "# classifier = LogisticRegression(max_iter = 1000)\n",
    "classifier = LogisticRegression()\n",
    "classifier"
   ]
  },
  {
   "cell_type": "code",
   "execution_count": null,
   "id": "5fb84ce5",
   "metadata": {},
   "outputs": [],
   "source": [
    "classifier.fit(X_test, y_test)"
   ]
  },
  {
   "cell_type": "code",
   "execution_count": null,
   "id": "2d992034",
   "metadata": {},
   "outputs": [],
   "source": [
    "classifier.predict(X_test)"
   ]
  },
  {
   "cell_type": "code",
   "execution_count": null,
   "id": "e4bedb6a",
   "metadata": {},
   "outputs": [],
   "source": [
    "print(f\"Training Data Score: {classifier.score(X_train, y_train)}\")\n",
    "print(f\"Testing Data Score: {classifier.score(X_test, y_test)}\")"
   ]
  },
  {
   "cell_type": "code",
   "execution_count": null,
   "id": "a773bac6",
   "metadata": {},
   "outputs": [],
   "source": [
    "predictions = classifier.predict(X_test)\n",
    "print(f\"First 10 Predictions:   {predictions[:10]}\")\n",
    "print(f\"First 10 Actual labels: {y_test[:10].tolist()}\")"
   ]
  },
  {
   "cell_type": "code",
   "execution_count": null,
   "id": "bc8ef4c8",
   "metadata": {},
   "outputs": [],
   "source": [
    "pd.DataFrame({\"Prediction\": predictions, \"Actual\": y_test}).reset_index(drop=True)"
   ]
  },
  {
   "cell_type": "code",
   "execution_count": null,
   "id": "256f6703",
   "metadata": {},
   "outputs": [],
   "source": [
    "# # Save the model\n",
    "# import pickle\n",
    "# filename = 'survival_model_trained.pkl'\n",
    "# pickle.dump(classifier,open(filename,'wb'))"
   ]
  },
  {
   "cell_type": "code",
   "execution_count": null,
   "id": "232d4177",
   "metadata": {},
   "outputs": [],
   "source": [
    "# df_clean.to_csv(\"data_cleaned.csv\")"
   ]
  },
  {
   "cell_type": "code",
   "execution_count": null,
   "id": "431fa250",
   "metadata": {},
   "outputs": [],
   "source": [
    "from sklearn.linear_model import LogisticRegression\n",
    "logreg = LogisticRegression()\n",
    "logreg.fit(X_train, y_train)\n",
    "y_pred = logreg.predict(X_test)\n",
    "logreg_score = round(logreg.score(X_train, y_train) * 100, 2)\n",
    "logreg_score"
   ]
  },
  {
   "cell_type": "code",
   "execution_count": null,
   "id": "197d037c",
   "metadata": {},
   "outputs": [],
   "source": [
    "from sklearn.svm import SVC, LinearSVC\n",
    "svc = SVC()\n",
    "svc.fit(X_train, y_train)\n",
    "y_pred = svc.predict(X_test)\n",
    "\n",
    "svc_score = round(svc.score(X_train, y_train) * 100, 2)\n",
    "svc_score"
   ]
  },
  {
   "cell_type": "code",
   "execution_count": null,
   "id": "f0be2eb3",
   "metadata": {},
   "outputs": [],
   "source": [
    "lsvc = LinearSVC(verbose=0)\n",
    "print(lsvc)\n",
    "\n",
    "LinearSVC(C=1.0, class_weight=None, dual=True, fit_intercept=True,\n",
    "          intercept_scaling=1, loss='squared_hinge', max_iter=1000,\n",
    "          multi_class='ovr', penalty='l2', random_state=None, tol=0.0001,\n",
    "          verbose=0)\n",
    "\n",
    "lsvc.fit(X_train, y_train)\n",
    "score = lsvc.score(X_train, y_train)\n",
    "print(\"Score: \", score)\n"
   ]
  },
  {
   "cell_type": "code",
   "execution_count": null,
   "id": "578684e6",
   "metadata": {},
   "outputs": [],
   "source": [
    "linsvc = LinearSVC()\n",
    "linsvc.fit(X_train, y_train)\n",
    "y_pred = linsvc.predict(X_test)\n",
    "\n",
    "linsvc_score = round(linsvc.score(X_train, y_train) * 100, 2)\n",
    "linsvc_score"
   ]
  },
  {
   "cell_type": "code",
   "execution_count": null,
   "id": "58f38c2f",
   "metadata": {},
   "outputs": [],
   "source": [
    "from sklearn.tree import DecisionTreeClassifier\n",
    "\n",
    "dectree = DecisionTreeClassifier()\n",
    "dectree.fit(X_train, y_train)\n",
    "y_pred = dectree.predict(X_test)\n",
    "\n",
    "dectree_score = round(dectree.score(X_train, y_train) * 100, 2)\n",
    "dectree_score"
   ]
  },
  {
   "cell_type": "code",
   "execution_count": null,
   "id": "6076227c",
   "metadata": {},
   "outputs": [],
   "source": [
    "dectree_score = round(dectree.score(X_test, y_test) * 100, 2)\n",
    "dectree_score"
   ]
  },
  {
   "cell_type": "code",
   "execution_count": null,
   "id": "ccee3f68",
   "metadata": {},
   "outputs": [],
   "source": [
    "# # Save the model\n",
    "# import pickle\n",
    "# filename = 'survival_model_trained.pkl'\n",
    "# pickle.dump(dectree,open(filename,'wb'))"
   ]
  },
  {
   "cell_type": "code",
   "execution_count": null,
   "id": "10038428",
   "metadata": {},
   "outputs": [],
   "source": [
    "X_train"
   ]
  },
  {
   "cell_type": "code",
   "execution_count": null,
   "id": "ea49bdcd",
   "metadata": {},
   "outputs": [],
   "source": [
    "from sklearn.ensemble import RandomForestClassifier\n",
    "\n",
    "randcls = RandomForestClassifier()\n",
    "randcls.fit(X_train, y_train)\n",
    "y_pred = randcls.predict(X_test)\n",
    "\n",
    "randcls_score = round(randcls.score(X_train, y_train) * 100, 2)\n",
    "randcls_score"
   ]
  },
  {
   "cell_type": "code",
   "execution_count": null,
   "id": "56416968",
   "metadata": {},
   "outputs": [],
   "source": [
    "randcls_score = round(randcls.score(X_test, y_test) * 100, 2)\n",
    "randcls_score"
   ]
  },
  {
   "cell_type": "code",
   "execution_count": null,
   "id": "9f5afd35",
   "metadata": {},
   "outputs": [],
   "source": [
    "# Save the model\n",
    "import pickle\n",
    "filename = 'survival_model_trained.pkl'\n",
    "pickle.dump(randcls,open(filename,'wb'))"
   ]
  },
  {
   "cell_type": "code",
   "execution_count": null,
   "id": "62702bb6",
   "metadata": {},
   "outputs": [],
   "source": [
    "X_test"
   ]
  },
  {
   "cell_type": "code",
   "execution_count": null,
   "id": "2244653c",
   "metadata": {},
   "outputs": [],
   "source": [
    "#create df w/single row\n"
   ]
  },
  {
   "cell_type": "code",
   "execution_count": null,
   "id": "ac41cfdb",
   "metadata": {},
   "outputs": [],
   "source": [
    "X_train"
   ]
  },
  {
   "cell_type": "code",
   "execution_count": null,
   "id": "aa6e0655",
   "metadata": {},
   "outputs": [],
   "source": []
  }
 ],
 "metadata": {
  "kernelspec": {
   "display_name": "Python 3",
   "language": "python",
   "name": "python3"
  },
  "language_info": {
   "codemirror_mode": {
    "name": "ipython",
    "version": 3
   },
   "file_extension": ".py",
   "mimetype": "text/x-python",
   "name": "python",
   "nbconvert_exporter": "python",
   "pygments_lexer": "ipython3",
   "version": "3.8.8"
  }
 },
 "nbformat": 4,
 "nbformat_minor": 5
}
